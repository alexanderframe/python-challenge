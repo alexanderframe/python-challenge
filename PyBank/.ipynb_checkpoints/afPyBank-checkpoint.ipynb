{
 "cells": [
  {
   "cell_type": "code",
   "execution_count": 46,
   "metadata": {},
   "outputs": [],
   "source": [
    "import os\n",
    "import csv"
   ]
  },
  {
   "cell_type": "code",
   "execution_count": 55,
   "metadata": {},
   "outputs": [],
   "source": [
    "pyBankPath = os.path.join('Resources', 'budget_data.csv')\n",
    "outputPath = os.path.join('afPyBankOutput.txt')"
   ]
  },
  {
   "cell_type": "code",
   "execution_count": 56,
   "metadata": {},
   "outputs": [],
   "source": [
    "totalMonths = 0\n",
    "totalPL = 0\n",
    "plChange = 0\n",
    "previousPL = 0\n",
    "greatestIncrease = 0\n",
    "greatestDecrease = 0\n",
    "\n",
    "with open(pyBankPath, 'r') as budgetData:\n",
    "    csvReader = csv.DictReader(budgetData, delimiter=',')\n",
    "    for row in csvReader:\n",
    "        totalMonths += 1\n",
    "        totalPL += int(row['Profit/Losses'])\n",
    "        \n",
    "        plChange = int(row['Profit/Losses']) - previousPL\n",
    "        previousPL = int(row['Profit/Losses'])\n",
    "        \n",
    "        if plChange > greatestIncrease:\n",
    "            greatestIncrease = plChange\n",
    "            greatestMonth = row['Date']\n",
    "        elif plChange < greatestDecrease:\n",
    "            greatestDecrease = plChange\n",
    "            leastMonth = row['Date']\n",
    "            \n",
    "    averageChange = round((totalPL/totalMonths), 2)\n",
    "        \n"
   ]
  },
  {
   "cell_type": "code",
   "execution_count": 57,
   "metadata": {},
   "outputs": [
    {
     "name": "stdout",
     "output_type": "stream",
     "text": [
      "Financial Analysis \n",
      "-------------------- \n",
      "Total Months: 86 \n",
      "Total: $38382578 \n",
      "Average Change: $446309.05 \n",
      "Greatest Increase in Profits: Feb-2012, ($1926159) \n",
      "Greatest Decrease in Profits: Sep-2013, ($-2196167) \n",
      "\n"
     ]
    }
   ],
   "source": [
    "output = (\n",
    "'Financial Analysis by Alex Frame \\n'\n",
    "'-------------------- \\n'\n",
    "f'Total Months: {totalMonths} \\n'\n",
    "f'Total: ${totalPL} \\n'\n",
    "f'Average Change: ${averageChange} \\n'\n",
    "f'Greatest Increase in Profits: {greatestMonth}, (${greatestIncrease}) \\n'\n",
    "f'Greatest Decrease in Profits: {leastMonth}, (${greatestDecrease}) \\n'\n",
    ")\n",
    "\n",
    "print(output)\n",
    "\n",
    "with open (outputPath, 'w') as txtFile:\n",
    "    txtFile.write(output)"
   ]
  },
  {
   "cell_type": "code",
   "execution_count": null,
   "metadata": {},
   "outputs": [],
   "source": []
  },
  {
   "cell_type": "code",
   "execution_count": null,
   "metadata": {},
   "outputs": [],
   "source": []
  },
  {
   "cell_type": "code",
   "execution_count": null,
   "metadata": {},
   "outputs": [],
   "source": []
  },
  {
   "cell_type": "code",
   "execution_count": null,
   "metadata": {},
   "outputs": [],
   "source": []
  }
 ],
 "metadata": {
  "kernelspec": {
   "display_name": "Python 3",
   "language": "python",
   "name": "python3"
  },
  "language_info": {
   "codemirror_mode": {
    "name": "ipython",
    "version": 3
   },
   "file_extension": ".py",
   "mimetype": "text/x-python",
   "name": "python",
   "nbconvert_exporter": "python",
   "pygments_lexer": "ipython3",
   "version": "3.6.8"
  }
 },
 "nbformat": 4,
 "nbformat_minor": 2
}
