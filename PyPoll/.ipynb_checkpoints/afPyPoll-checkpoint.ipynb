{
 "cells": [
  {
   "cell_type": "code",
   "execution_count": 21,
   "metadata": {},
   "outputs": [],
   "source": [
    "import os\n",
    "import csv\n",
    "\n",
    "pyPollPath = os.path.join('Resources', 'election_data.csv')\n",
    "outputPath = os.path.join('afPyPollOutput.txt')"
   ]
  },
  {
   "cell_type": "code",
   "execution_count": 22,
   "metadata": {},
   "outputs": [],
   "source": [
    "totalVotes = 0\n",
    "\n",
    "# create list for candidate options an dict for candidate vote counters\n",
    "candidates = []\n",
    "candidateVotes = {}\n",
    "\n",
    "# variables for winning candidate and winning vote count\n",
    "winner = ''\n",
    "winningCount = 0"
   ]
  },
  {
   "cell_type": "code",
   "execution_count": 23,
   "metadata": {},
   "outputs": [],
   "source": [
    "with open(pyPollPath, 'r') as pollData:\n",
    "    csvReader = csv.DictReader(pollData, delimiter=',')\n",
    "    \n",
    "    for row in csvReader:\n",
    "        \n",
    "        # add one to the total votes tally for each row\n",
    "        totalVotes += 1\n",
    "        candidateName = row['Candidate']\n",
    "        \n",
    "        # add candidate if not in list already\n",
    "        if candidateName not in candidates:\n",
    "            candidates.append(candidateName)\n",
    "            candidateVotes[candidateName] = 0\n",
    "         \n",
    "        # add one vote to individual candidate vote tally\n",
    "        candidateVotes[candidateName] += 1"
   ]
  },
  {
   "cell_type": "code",
   "execution_count": 24,
   "metadata": {},
   "outputs": [
    {
     "name": "stdout",
     "output_type": "stream",
     "text": [
      "Election Results \n",
      "------------------- \n",
      "Total Votes: 3521001 \n",
      "------------------- \n",
      "\n",
      "Khan: 63.0% (2218231) \n",
      "\n",
      "Correy: 20.0% (704200) \n",
      "\n",
      "Li: 14.0% (492940) \n",
      "\n",
      "O'Tooley: 3.0% (105630) \n",
      "\n",
      "------------------- \n",
      "Winner: Khan \n",
      "------------------- \n",
      "\n"
     ]
    }
   ],
   "source": [
    "# print the results and export the data\n",
    "with open(outputPath, 'w') as txtFile:\n",
    "    electionResults = (\n",
    "        'Election Results \\n'\n",
    "        '------------------- \\n'\n",
    "        f'Total Votes: {totalVotes} \\n'\n",
    "        '------------------- \\n'\n",
    "    )\n",
    "    \n",
    "    print(electionResults)\n",
    "    txtFile.write(electionResults)\n",
    "\n",
    "    # get vote count for each candidate and print results\n",
    "    for candidate in candidateVotes:\n",
    "        votes = candidateVotes.get(candidate)\n",
    "        votePercentage = round(((votes / totalVotes) * 100), 3)\n",
    "        candidateOutput = f'{candidate}: {votePercentage}% ({votes}) \\n'\n",
    "        \n",
    "        print(candidateOutput)\n",
    "        txtFile.write(candidateOutput)\n",
    "        \n",
    "        #find winner\n",
    "        if votes > winningCount:\n",
    "            winningCount = votes\n",
    "            winner = candidate\n",
    "            \n",
    "    # print winning results\n",
    "    winningResults = (\n",
    "        '------------------- \\n'\n",
    "        f'Winner: {winner} \\n'\n",
    "        '------------------- \\n'\n",
    "    )\n",
    "    \n",
    "    print(winningResults)\n",
    "    txtFile.write(winningResults)\n",
    "        \n",
    "    "
   ]
  },
  {
   "cell_type": "code",
   "execution_count": null,
   "metadata": {},
   "outputs": [],
   "source": []
  }
 ],
 "metadata": {
  "kernelspec": {
   "display_name": "Python 3",
   "language": "python",
   "name": "python3"
  },
  "language_info": {
   "codemirror_mode": {
    "name": "ipython",
    "version": 3
   },
   "file_extension": ".py",
   "mimetype": "text/x-python",
   "name": "python",
   "nbconvert_exporter": "python",
   "pygments_lexer": "ipython3",
   "version": "3.6.8"
  }
 },
 "nbformat": 4,
 "nbformat_minor": 2
}
